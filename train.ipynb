{
 "cells": [
  {
   "cell_type": "code",
   "execution_count": 1,
   "id": "2a7e8e7c",
   "metadata": {
    "execution": {
     "iopub.execute_input": "2024-08-13T02:20:49.947449Z",
     "iopub.status.busy": "2024-08-13T02:20:49.947163Z",
     "iopub.status.idle": "2024-08-13T02:21:00.902920Z",
     "shell.execute_reply": "2024-08-13T02:21:00.901963Z"
    },
    "papermill": {
     "duration": 10.964298,
     "end_time": "2024-08-13T02:21:00.905387",
     "exception": false,
     "start_time": "2024-08-13T02:20:49.941089",
     "status": "completed"
    },
    "tags": []
   },
   "outputs": [],
   "source": [
    "# import libraries\n",
    "import random\n",
    "import pandas as pd\n",
    "import numpy as np\n",
    "from scipy import stats\n",
    "\n",
    "from sklearn.preprocessing import StandardScaler\n",
    "\n",
    "from torch.utils.data import Dataset, DataLoader\n",
    "import imageio.v3 as imageio\n",
    "import albumentations as A\n",
    "import imgaug\n",
    "from albumentations.pytorch import ToTensorV2\n",
    "\n",
    "from torch import nn\n",
    "import torch\n",
    "import timm\n",
    "\n",
    "import torch.optim as optim\n",
    "import torchmetrics\n",
    "\n",
    "from tqdm.notebook import tqdm\n",
    "tqdm.pandas()"
   ]
  },
  {
   "cell_type": "code",
   "execution_count": 2,
   "id": "cca329d7",
   "metadata": {
    "execution": {
     "iopub.execute_input": "2024-08-13T02:21:00.916344Z",
     "iopub.status.busy": "2024-08-13T02:21:00.916049Z",
     "iopub.status.idle": "2024-08-13T02:21:00.979758Z",
     "shell.execute_reply": "2024-08-13T02:21:00.979000Z"
    },
    "papermill": {
     "duration": 0.071569,
     "end_time": "2024-08-13T02:21:00.982062",
     "exception": false,
     "start_time": "2024-08-13T02:21:00.910493",
     "status": "completed"
    },
    "tags": []
   },
   "outputs": [],
   "source": [
    "def set_seed(seed):\n",
    "    random.seed(seed)\n",
    "    np.random.seed(seed)\n",
    "    torch.manual_seed(seed)\n",
    "    imgaug.random.seed(seed)\n",
    "    if torch.cuda.is_available():\n",
    "        torch.cuda.manual_seed(seed)\n",
    "        torch.cuda.manual_seed_all(seed)\n",
    "    torch.backends.cudnn.deterministic = True\n",
    "    torch.backends.cudnn.benchmark = False\n",
    "\n",
    "set_seed(42)"
   ]
  },
  {
   "cell_type": "code",
   "execution_count": 3,
   "id": "26ec7e8c",
   "metadata": {
    "execution": {
     "iopub.execute_input": "2024-08-13T02:21:00.992716Z",
     "iopub.status.busy": "2024-08-13T02:21:00.992406Z",
     "iopub.status.idle": "2024-08-13T02:21:04.096792Z",
     "shell.execute_reply": "2024-08-13T02:21:04.095790Z"
    },
    "papermill": {
     "duration": 3.112389,
     "end_time": "2024-08-13T02:21:04.099228",
     "exception": false,
     "start_time": "2024-08-13T02:21:00.986839",
     "status": "completed"
    },
    "tags": []
   },
   "outputs": [],
   "source": [
    "# load data\n",
    "#train = pd.read_pickle('/kaggle/input/cs480data/cs480train.pkl')\n",
    "train = pd.read_pickle('./cs480train.pkl')\n",
    "#test = pd.read_pickle('/kaggle/input/cs480data/cs480test.pkl')\n",
    "test = pd.read_pickle('./cs480test.pkl')\n",
    "\n",
    "labels = ['X4_mean', 'X11_mean', 'X18_mean', 'X26_mean', 'X50_mean', 'X3112_mean']\n",
    "features = [x for x in (train.columns.values.tolist()) if x not in labels + ['id', 'file_path', 'jpeg_bytes']]\n",
    "lower = [0] * 6\n",
    "higher = [0] * 6\n",
    "for idx, c in enumerate(labels):\n",
    "    lower[idx] = train[c].quantile(0.005)\n",
    "    higher[idx] = train[c].quantile(0.985)\n",
    "\n",
    "for idx, c in enumerate(labels):\n",
    "    train = train[(train[c] >= lower[idx]) & (train[c] <= higher[idx])]"
   ]
  },
  {
   "cell_type": "code",
   "execution_count": 4,
   "id": "c992d085",
   "metadata": {
    "execution": {
     "iopub.execute_input": "2024-08-13T02:21:04.109902Z",
     "iopub.status.busy": "2024-08-13T02:21:04.109612Z",
     "iopub.status.idle": "2024-08-13T02:21:04.579403Z",
     "shell.execute_reply": "2024-08-13T02:21:04.578619Z"
    },
    "papermill": {
     "duration": 0.477636,
     "end_time": "2024-08-13T02:21:04.581749",
     "exception": false,
     "start_time": "2024-08-13T02:21:04.104113",
     "status": "completed"
    },
    "tags": []
   },
   "outputs": [],
   "source": [
    "# transform 1: log-and-scale y-labels\n",
    "y = np.zeros_like(train[labels], dtype=np.float32)\n",
    "for idx, label in enumerate(labels):\n",
    "    y[:, idx] = np.log10(train[label].values)\n",
    "\n",
    "y_scaler = StandardScaler()\n",
    "y = y_scaler.fit_transform(y)\n",
    "\n",
    "\n",
    "# transform 2: log-and-scale x-features\n",
    "# note: for log-transforming x-features, some are negative\n",
    "        # we shift those values by the minimum of the feature column\n",
    "        # this may pose a problem, i.e. say -5 is minimum of train, but -6 is minimum of test\n",
    "        # thus, we will 'clip' the data during the test column transformation\n",
    "\n",
    "skewness = stats.skew(train[features])\n",
    "log_features = []\n",
    "for skew, feature in zip(skewness, features):\n",
    "    if skew > 1: log_features.append(feature)\n",
    "\n",
    "LOG_TRAIN_FEATURES_MIN_RECOVERY = [0.00] * len(features)  \n",
    "x_tab_train = np.zeros_like(train[features], dtype = np.float32)\n",
    "for idx, feature in enumerate(features):\n",
    "    v = train[feature].values\n",
    "    if feature in log_features:\n",
    "        min_val = np.min(v)\n",
    "        LOG_TRAIN_FEATURES_MIN_RECOVERY[idx] = np.min(v) if min_val < 0 else 0\n",
    "        v = np.log10(v - LOG_TRAIN_FEATURES_MIN_RECOVERY[idx] + 1)\n",
    "    x_tab_train[:, idx] = v\n",
    "\n",
    "tab_scaler = StandardScaler()\n",
    "x_tab_train = tab_scaler.fit_transform(x_tab_train)\n",
    "\n",
    "# transform 3: log-and-scale x-features for test set\n",
    "x_tab_test = np.zeros_like(test[features], dtype=np.float32)\n",
    "for idx, feature in enumerate(features):\n",
    "    v = test[feature].values\n",
    "    if feature in log_features:\n",
    "        pre_clipped = v - LOG_TRAIN_FEATURES_MIN_RECOVERY[idx] + 1\n",
    "        clipped = np.clip(v, a_min=1e-10, a_max=None) # see here from note in transform 2\n",
    "        v = np.log10(clipped)\n",
    "    x_tab_test[:, idx] = v\n",
    "\n",
    "x_tab_test = tab_scaler.fit_transform(x_tab_test)"
   ]
  },
  {
   "cell_type": "code",
   "execution_count": 5,
   "id": "695d5e87",
   "metadata": {
    "execution": {
     "iopub.execute_input": "2024-08-13T02:21:04.592419Z",
     "iopub.status.busy": "2024-08-13T02:21:04.592121Z",
     "iopub.status.idle": "2024-08-13T02:21:04.596432Z",
     "shell.execute_reply": "2024-08-13T02:21:04.595609Z"
    },
    "papermill": {
     "duration": 0.011797,
     "end_time": "2024-08-13T02:21:04.598473",
     "exception": false,
     "start_time": "2024-08-13T02:21:04.586676",
     "status": "completed"
    },
    "tags": []
   },
   "outputs": [],
   "source": [
    "epochs = 6\n",
    "batch_size = 10\n",
    "total_steps = len(train) // batch_size * epochs + 1 "
   ]
  },
  {
   "cell_type": "code",
   "execution_count": 6,
   "id": "71387eb4",
   "metadata": {
    "execution": {
     "iopub.execute_input": "2024-08-13T02:21:04.608467Z",
     "iopub.status.busy": "2024-08-13T02:21:04.608210Z",
     "iopub.status.idle": "2024-08-13T02:21:04.621199Z",
     "shell.execute_reply": "2024-08-13T02:21:04.620363Z"
    },
    "papermill": {
     "duration": 0.020228,
     "end_time": "2024-08-13T02:21:04.623152",
     "exception": false,
     "start_time": "2024-08-13T02:21:04.602924",
     "status": "completed"
    },
    "tags": []
   },
   "outputs": [],
   "source": [
    "# create datasets (mostly borrowed from HdJoJo)\n",
    "# image transforms: flip, crop, brightness, compression\n",
    "MEAN = [0.485, 0.456, 0.406]\n",
    "STD = [0.229, 0.224, 0.225]\n",
    "\n",
    "\n",
    "TRAIN_IMAGE_TRANSFORMS = A.Compose([\n",
    "        A.HorizontalFlip(p=0.5),\n",
    "        A.RandomSizedCrop(\n",
    "            [112, 128],\n",
    "            128, 128, w2h_ratio=1.0, p=0.8),\n",
    "        A.Resize(384, 384),\n",
    "        A.RandomBrightnessContrast(brightness_limit=0.1, contrast_limit=0.1, p=0.3),\n",
    "        A.ImageCompression(quality_lower=85, quality_upper=100, p=0.3),\n",
    "        A.ToFloat(),\n",
    "        A.Normalize(mean=MEAN, std=STD, max_pixel_value=1),\n",
    "        ToTensorV2(),\n",
    "    ])\n",
    "\n",
    "TEST_IMAGE_TRANSFORMS = A.Compose([\n",
    "        A.Resize(384, 384),\n",
    "        A.ToFloat(),\n",
    "        A.Normalize(mean=MEAN, std=STD, max_pixel_value=1),\n",
    "        ToTensorV2(),\n",
    "    ])\n",
    "\n",
    "class Dataset(Dataset):\n",
    "    def __init__(self, X_jpeg_bytes, X_tab_data, y, image_transforms=None):\n",
    "        self.X_jpeg_bytes = X_jpeg_bytes\n",
    "        self.tab_data = X_tab_data\n",
    "        self.y = y\n",
    "        self.image_transforms = image_transforms\n",
    "\n",
    "    def __len__(self):\n",
    "        return len(self.X_jpeg_bytes)\n",
    "\n",
    "    def __getitem__(self, index):\n",
    "        X_image_sample = self.image_transforms(\n",
    "            image=imageio.imread(self.X_jpeg_bytes[index]),\n",
    "        )['image']\n",
    "        X_tabular_sample = self.tab_data[index]\n",
    "        y_sample = self.y[index]\n",
    "        \n",
    "        return X_image_sample, X_tabular_sample, y_sample\n",
    "\n",
    "\n",
    "train_dataset = Dataset(\n",
    "    train['jpeg_bytes'].values,\n",
    "    x_tab_train,\n",
    "    y,\n",
    "    TRAIN_IMAGE_TRANSFORMS,\n",
    ")\n",
    "\n",
    "train_dataloader = DataLoader(\n",
    "        train_dataset,\n",
    "        batch_size=batch_size,\n",
    "        shuffle=True,\n",
    "        drop_last=True,\n",
    ")\n",
    "\n",
    "test_dataset = Dataset(\n",
    "    test['jpeg_bytes'].values,\n",
    "    x_tab_test,\n",
    "    test['id'].values,\n",
    "    TEST_IMAGE_TRANSFORMS,\n",
    ")\n",
    "\n",
    "test_dataloader = DataLoader(\n",
    "    test_dataset,\n",
    "    batch_size=1,\n",
    "    shuffle=False,\n",
    "    drop_last=False,\n",
    "    num_workers=0\n",
    ")"
   ]
  },
  {
   "cell_type": "code",
   "execution_count": 7,
   "id": "c993df83",
   "metadata": {
    "execution": {
     "iopub.execute_input": "2024-08-13T02:21:04.633034Z",
     "iopub.status.busy": "2024-08-13T02:21:04.632765Z",
     "iopub.status.idle": "2024-08-13T02:21:04.636435Z",
     "shell.execute_reply": "2024-08-13T02:21:04.635644Z"
    },
    "papermill": {
     "duration": 0.010581,
     "end_time": "2024-08-13T02:21:04.638256",
     "exception": false,
     "start_time": "2024-08-13T02:21:04.627675",
     "status": "completed"
    },
    "tags": []
   },
   "outputs": [],
   "source": [
    "device = 'cuda' # change to cuda/cpu"
   ]
  },
  {
   "cell_type": "code",
   "execution_count": 8,
   "id": "4d5312c9",
   "metadata": {
    "execution": {
     "iopub.execute_input": "2024-08-13T02:21:04.647904Z",
     "iopub.status.busy": "2024-08-13T02:21:04.647673Z",
     "iopub.status.idle": "2024-08-13T02:21:04.651706Z",
     "shell.execute_reply": "2024-08-13T02:21:04.650907Z"
    },
    "papermill": {
     "duration": 0.01086,
     "end_time": "2024-08-13T02:21:04.653462",
     "exception": false,
     "start_time": "2024-08-13T02:21:04.642602",
     "status": "completed"
    },
    "tags": []
   },
   "outputs": [],
   "source": [
    "# model change\n",
    "tab_extractor_layer = 512\n",
    "tab_feature_rep = 512\n",
    "image_feature_rep = 512\n",
    "comb_l1 = 512\n",
    "comb_l2 = 256\n",
    "second_layer = True"
   ]
  },
  {
   "cell_type": "code",
   "execution_count": 9,
   "id": "edf67c53",
   "metadata": {
    "execution": {
     "iopub.execute_input": "2024-08-13T02:21:04.663325Z",
     "iopub.status.busy": "2024-08-13T02:21:04.663085Z",
     "iopub.status.idle": "2024-08-13T02:21:15.614261Z",
     "shell.execute_reply": "2024-08-13T02:21:15.613463Z"
    },
    "papermill": {
     "duration": 10.958714,
     "end_time": "2024-08-13T02:21:15.616638",
     "exception": false,
     "start_time": "2024-08-13T02:21:04.657924",
     "status": "completed"
    },
    "tags": []
   },
   "outputs": [],
   "source": [
    "# define model\n",
    "class Model(nn.Module):\n",
    "    def __init__(self):\n",
    "        super().__init__()\n",
    "        # tab extractor\n",
    "        self.tab_extractor = nn.Sequential(\n",
    "            nn.Linear(len(features), tab_extractor_layer),\n",
    "            nn.BatchNorm1d(tab_extractor_layer),\n",
    "            nn.ReLU(),\n",
    "            nn.Linear(tab_extractor_layer, tab_feature_rep)\n",
    "        )\n",
    "\n",
    "        # image extractor\n",
    "        self.pre_trained = timm.create_model('swin_large_patch4_window12_384.ms_in22k_ft_in1k', num_classes=len(labels), pretrained=False)\n",
    "        #self.pre_trained.load_state_dict(torch.load('/kaggle/input/cs480data/pre_trained.pth'))\n",
    "        self.pre_trained.load_state_dict(torch.load('./pre_trained.pth'))\n",
    "        for p in self.pre_trained.parameters(): p.requires_grad = False # freeze\n",
    "        self.pre_trained.head = nn.Identity()\n",
    "        self.image_extractor = nn.Sequential(nn.AdaptiveAvgPool2d(1), nn.Flatten(), nn.Linear(self.pre_trained.num_features, image_feature_rep))\n",
    "\n",
    "        # combination layers\n",
    "        if second_layer:\n",
    "            self.concat_nn = nn.Sequential(\n",
    "                nn.Linear(tab_feature_rep + image_feature_rep, comb_l1),\n",
    "                nn.BatchNorm1d(comb_l1),\n",
    "                nn.ReLU(),\n",
    "                nn.Linear(comb_l1, comb_l2),\n",
    "                nn.BatchNorm1d(comb_l2),\n",
    "                nn.ReLU(),\n",
    "                nn.Linear(comb_l2, len(labels))\n",
    "            )\n",
    "        else:\n",
    "            self.concat_nn = nn.Sequential(\n",
    "                nn.Linear(tab_feature_rep + image_feature_rep, comb_l1),\n",
    "                nn.BatchNorm1d(comb_l1),\n",
    "                nn.ReLU(),\n",
    "                nn.Linear(comb_l1, len(labels))\n",
    "            )\n",
    "        \n",
    "    def forward(self, image, tabular):\n",
    "        # extract from Image\n",
    "        image_features = self.image_extractor(self.pre_trained(image).permute(0,3,1,2))\n",
    "        # extract from Tabular\n",
    "        tabular_features = self.tab_extractor(tabular)\n",
    "        # fusion\n",
    "        combo_features = torch.cat([image_features, tabular_features], dim=1)\n",
    "        # combination\n",
    "        output = self.concat_nn(combo_features)\n",
    "        return output\n",
    "\n",
    "model = Model()\n",
    "model = model.to(device)"
   ]
  },
  {
   "cell_type": "code",
   "execution_count": 10,
   "id": "1084441f",
   "metadata": {
    "execution": {
     "iopub.execute_input": "2024-08-13T02:21:15.627227Z",
     "iopub.status.busy": "2024-08-13T02:21:15.626912Z",
     "iopub.status.idle": "2024-08-13T02:21:15.630789Z",
     "shell.execute_reply": "2024-08-13T02:21:15.629990Z"
    },
    "papermill": {
     "duration": 0.011385,
     "end_time": "2024-08-13T02:21:15.632725",
     "exception": false,
     "start_time": "2024-08-13T02:21:15.621340",
     "status": "completed"
    },
    "tags": []
   },
   "outputs": [],
   "source": [
    "lr = 1e-4\n",
    "weight_decay = 1e-2"
   ]
  },
  {
   "cell_type": "code",
   "execution_count": 11,
   "id": "4080127a",
   "metadata": {
    "execution": {
     "iopub.execute_input": "2024-08-13T02:21:15.642889Z",
     "iopub.status.busy": "2024-08-13T02:21:15.642435Z",
     "iopub.status.idle": "2024-08-13T02:21:15.655503Z",
     "shell.execute_reply": "2024-08-13T02:21:15.654583Z"
    },
    "papermill": {
     "duration": 0.020415,
     "end_time": "2024-08-13T02:21:15.657598",
     "exception": false,
     "start_time": "2024-08-13T02:21:15.637183",
     "status": "completed"
    },
    "tags": []
   },
   "outputs": [],
   "source": [
    "# define scheduler/metrics\n",
    "class AverageMeter(object):\n",
    "    def __init__(self):\n",
    "        self.reset()\n",
    "\n",
    "    def reset(self):\n",
    "        self.avg = 0\n",
    "        self.sum = 0\n",
    "        self.count = 0\n",
    "\n",
    "    def update(self, val):\n",
    "        self.sum += val.sum()\n",
    "        self.count += val.numel()\n",
    "        self.avg = self.sum / self.count\n",
    "\n",
    "MAE = torchmetrics.regression.MeanAbsoluteError().to(device)\n",
    "R2 = torchmetrics.regression.R2Score(num_outputs=len(labels), multioutput='uniform_average').to(device)\n",
    "LOSS = AverageMeter()\n",
    "\n",
    "loss_fn = nn.SmoothL1Loss()\n",
    "\n",
    "def get_lr_scheduler(optimizer, lr_max):\n",
    "    return torch.optim.lr_scheduler.OneCycleLR(\n",
    "        optimizer=optimizer,\n",
    "        max_lr=lr_max,\n",
    "        total_steps=total_steps,\n",
    "        pct_start=0.1,\n",
    "        anneal_strategy='cos',\n",
    "        div_factor=1e1,\n",
    "        final_div_factor=1e1,\n",
    "    )\n",
    "\n",
    "optimizer = torch.optim.AdamW(params=model.parameters(),lr=lr, weight_decay=weight_decay)\n",
    "scheduler = get_lr_scheduler(optimizer, lr)"
   ]
  },
  {
   "cell_type": "code",
   "execution_count": 12,
   "id": "e7834d8d",
   "metadata": {
    "execution": {
     "iopub.execute_input": "2024-08-13T02:21:15.667440Z",
     "iopub.status.busy": "2024-08-13T02:21:15.667169Z",
     "iopub.status.idle": "2024-08-13T05:25:06.297687Z",
     "shell.execute_reply": "2024-08-13T05:25:06.296692Z"
    },
    "papermill": {
     "duration": 11030.644306,
     "end_time": "2024-08-13T05:25:06.306237",
     "exception": false,
     "start_time": "2024-08-13T02:21:15.661931",
     "status": "completed"
    },
    "tags": []
   },
   "outputs": [
    {
     "name": "stdout",
     "output_type": "stream",
     "text": [
      "1\n",
      "tensor(0.2411, device='cuda:0', grad_fn=<DivBackward0>)\n",
      "0.5248298645019531\n",
      "0.3698725700378418\n",
      "2\n",
      "tensor(0.2132, device='cuda:0', grad_fn=<DivBackward0>)\n",
      "0.4805287718772888\n",
      "0.4504738450050354\n",
      "3\n",
      "tensor(0.2081, device='cuda:0', grad_fn=<DivBackward0>)\n",
      "0.47308436036109924\n",
      "0.4647108018398285\n",
      "4\n",
      "tensor(0.2026, device='cuda:0', grad_fn=<DivBackward0>)\n",
      "0.46517857909202576\n",
      "0.4810846447944641\n",
      "5\n",
      "tensor(0.1976, device='cuda:0', grad_fn=<DivBackward0>)\n",
      "0.45823749899864197\n",
      "0.4950682520866394\n",
      "6\n",
      "tensor(0.1939, device='cuda:0', grad_fn=<DivBackward0>)\n",
      "0.4534655511379242\n",
      "0.50637286901474\n"
     ]
    }
   ],
   "source": [
    "# training\n",
    "tracker = np.zeros((epochs, len(train) // batch_size), dtype=float)\n",
    "for epoch in range(epochs):\n",
    "    model.train()\n",
    "    MAE.reset()\n",
    "    R2.reset()\n",
    "    LOSS.reset()\n",
    "\n",
    "    for step, (image, tab, y) in enumerate(train_dataloader):\n",
    "        image = image.to(device)\n",
    "        tab = tab.to(device)\n",
    "        y = y.to(device)\n",
    "        model = model.to(device)\n",
    "\n",
    "        y_pred = model(image, tab)\n",
    "\n",
    "        loss = loss_fn(y, y_pred)\n",
    "        loss.backward()\n",
    "\n",
    "        optimizer.step()\n",
    "        optimizer.zero_grad()\n",
    "\n",
    "        scheduler.step()\n",
    "        \n",
    "        LOSS.update(loss)\n",
    "        MAE.update(y_pred, y)\n",
    "        R2.update(y_pred, y)\n",
    "\n",
    "        tracker[epoch, step] = loss\n",
    "\n",
    "        if (step + 1) == len(train) // batch_size:\n",
    "            print(str(epoch + 1))\n",
    "            print(str(LOSS.avg))\n",
    "            print(str(MAE.compute().item()))\n",
    "            print(str(R2.compute().item()))"
   ]
  },
  {
   "cell_type": "code",
   "execution_count": 13,
   "id": "ba244b48",
   "metadata": {
    "execution": {
     "iopub.execute_input": "2024-08-13T05:25:06.317475Z",
     "iopub.status.busy": "2024-08-13T05:25:06.317163Z",
     "iopub.status.idle": "2024-08-13T05:25:07.461642Z",
     "shell.execute_reply": "2024-08-13T05:25:07.460636Z"
    },
    "papermill": {
     "duration": 1.152736,
     "end_time": "2024-08-13T05:25:07.464029",
     "exception": false,
     "start_time": "2024-08-13T05:25:06.311293",
     "status": "completed"
    },
    "tags": []
   },
   "outputs": [],
   "source": [
    "# save model\n",
    "torch.save(model.to('cpu').state_dict(), 'model.pth')"
   ]
  },
  {
   "cell_type": "code",
   "execution_count": 14,
   "id": "24d1cb15",
   "metadata": {
    "execution": {
     "iopub.execute_input": "2024-08-13T05:25:07.476448Z",
     "iopub.status.busy": "2024-08-13T05:25:07.475848Z",
     "iopub.status.idle": "2024-08-13T05:30:50.759116Z",
     "shell.execute_reply": "2024-08-13T05:30:50.757993Z"
    },
    "papermill": {
     "duration": 343.291827,
     "end_time": "2024-08-13T05:30:50.761142",
     "exception": false,
     "start_time": "2024-08-13T05:25:07.469315",
     "status": "completed"
    },
    "tags": []
   },
   "outputs": [
    {
     "data": {
      "application/vnd.jupyter.widget-view+json": {
       "model_id": "7f6fa9204dc34bb8a080431237ee195e",
       "version_major": 2,
       "version_minor": 0
      },
      "text/plain": [
       "  0%|          | 0/6391 [00:00<?, ?it/s]"
      ]
     },
     "metadata": {},
     "output_type": "display_data"
    },
    {
     "name": "stdout",
     "output_type": "stream",
     "text": [
      "done\n"
     ]
    }
   ],
   "source": [
    "# evaluate model\n",
    "submission_rows = []\n",
    "model.to(device)\n",
    "model.eval()\n",
    "for image, tab, id in tqdm(test_dataloader):\n",
    "    with torch.no_grad():\n",
    "        y_pred = model(image.to(device), tab.to(device)).detach().cpu().numpy()\n",
    "\n",
    "    y_pred = y_scaler.inverse_transform(y_pred).squeeze()\n",
    "    row = {'id': int(id)}\n",
    "\n",
    "    for k, v in zip(labels, y_pred):\n",
    "        row[k.replace('_mean', '')] = 10 ** v\n",
    "    \n",
    "    submission_rows.append(row)\n",
    "\n",
    "submission_df = pd.DataFrame(submission_rows)\n",
    "submission_df.to_csv('20892920_huh.csv', index=False)\n",
    "print('done')"
   ]
  }
 ],
 "metadata": {
  "kaggle": {
   "accelerator": "gpu",
   "dataSources": [
    {
     "datasetId": 5531365,
     "sourceId": 9156260,
     "sourceType": "datasetVersion"
    },
    {
     "isSourceIdPinned": true,
     "modelId": 67289,
     "modelInstanceId": 49034,
     "sourceId": 58532,
     "sourceType": "modelInstanceVersion"
    }
   ],
   "dockerImageVersionId": 30747,
   "isGpuEnabled": true,
   "isInternetEnabled": true,
   "language": "python",
   "sourceType": "notebook"
  },
  "kernelspec": {
   "display_name": "Python 3",
   "language": "python",
   "name": "python3"
  },
  "language_info": {
   "codemirror_mode": {
    "name": "ipython",
    "version": 3
   },
   "file_extension": ".py",
   "mimetype": "text/x-python",
   "name": "python",
   "nbconvert_exporter": "python",
   "pygments_lexer": "ipython3",
   "version": "3.10.13"
  },
  "papermill": {
   "default_parameters": {},
   "duration": 11406.978285,
   "end_time": "2024-08-13T05:30:54.144252",
   "environment_variables": {},
   "exception": null,
   "input_path": "__notebook__.ipynb",
   "output_path": "__notebook__.ipynb",
   "parameters": {},
   "start_time": "2024-08-13T02:20:47.165967",
   "version": "2.5.0"
  },
  "widgets": {
   "application/vnd.jupyter.widget-state+json": {
    "state": {
     "0e4859ed6d8f40909b623544ed392b24": {
      "model_module": "@jupyter-widgets/base",
      "model_module_version": "1.2.0",
      "model_name": "LayoutModel",
      "state": {
       "_model_module": "@jupyter-widgets/base",
       "_model_module_version": "1.2.0",
       "_model_name": "LayoutModel",
       "_view_count": null,
       "_view_module": "@jupyter-widgets/base",
       "_view_module_version": "1.2.0",
       "_view_name": "LayoutView",
       "align_content": null,
       "align_items": null,
       "align_self": null,
       "border": null,
       "bottom": null,
       "display": null,
       "flex": null,
       "flex_flow": null,
       "grid_area": null,
       "grid_auto_columns": null,
       "grid_auto_flow": null,
       "grid_auto_rows": null,
       "grid_column": null,
       "grid_gap": null,
       "grid_row": null,
       "grid_template_areas": null,
       "grid_template_columns": null,
       "grid_template_rows": null,
       "height": null,
       "justify_content": null,
       "justify_items": null,
       "left": null,
       "margin": null,
       "max_height": null,
       "max_width": null,
       "min_height": null,
       "min_width": null,
       "object_fit": null,
       "object_position": null,
       "order": null,
       "overflow": null,
       "overflow_x": null,
       "overflow_y": null,
       "padding": null,
       "right": null,
       "top": null,
       "visibility": null,
       "width": null
      }
     },
     "45064c4762fb42d7b151b927dd39241a": {
      "model_module": "@jupyter-widgets/controls",
      "model_module_version": "1.5.0",
      "model_name": "DescriptionStyleModel",
      "state": {
       "_model_module": "@jupyter-widgets/controls",
       "_model_module_version": "1.5.0",
       "_model_name": "DescriptionStyleModel",
       "_view_count": null,
       "_view_module": "@jupyter-widgets/base",
       "_view_module_version": "1.2.0",
       "_view_name": "StyleView",
       "description_width": ""
      }
     },
     "467dbb8d1d024b57a9c179537e9d61a3": {
      "model_module": "@jupyter-widgets/base",
      "model_module_version": "1.2.0",
      "model_name": "LayoutModel",
      "state": {
       "_model_module": "@jupyter-widgets/base",
       "_model_module_version": "1.2.0",
       "_model_name": "LayoutModel",
       "_view_count": null,
       "_view_module": "@jupyter-widgets/base",
       "_view_module_version": "1.2.0",
       "_view_name": "LayoutView",
       "align_content": null,
       "align_items": null,
       "align_self": null,
       "border": null,
       "bottom": null,
       "display": null,
       "flex": null,
       "flex_flow": null,
       "grid_area": null,
       "grid_auto_columns": null,
       "grid_auto_flow": null,
       "grid_auto_rows": null,
       "grid_column": null,
       "grid_gap": null,
       "grid_row": null,
       "grid_template_areas": null,
       "grid_template_columns": null,
       "grid_template_rows": null,
       "height": null,
       "justify_content": null,
       "justify_items": null,
       "left": null,
       "margin": null,
       "max_height": null,
       "max_width": null,
       "min_height": null,
       "min_width": null,
       "object_fit": null,
       "object_position": null,
       "order": null,
       "overflow": null,
       "overflow_x": null,
       "overflow_y": null,
       "padding": null,
       "right": null,
       "top": null,
       "visibility": null,
       "width": null
      }
     },
     "606c7011a1f64eca8a6ffc4ebb0af9f4": {
      "model_module": "@jupyter-widgets/base",
      "model_module_version": "1.2.0",
      "model_name": "LayoutModel",
      "state": {
       "_model_module": "@jupyter-widgets/base",
       "_model_module_version": "1.2.0",
       "_model_name": "LayoutModel",
       "_view_count": null,
       "_view_module": "@jupyter-widgets/base",
       "_view_module_version": "1.2.0",
       "_view_name": "LayoutView",
       "align_content": null,
       "align_items": null,
       "align_self": null,
       "border": null,
       "bottom": null,
       "display": null,
       "flex": null,
       "flex_flow": null,
       "grid_area": null,
       "grid_auto_columns": null,
       "grid_auto_flow": null,
       "grid_auto_rows": null,
       "grid_column": null,
       "grid_gap": null,
       "grid_row": null,
       "grid_template_areas": null,
       "grid_template_columns": null,
       "grid_template_rows": null,
       "height": null,
       "justify_content": null,
       "justify_items": null,
       "left": null,
       "margin": null,
       "max_height": null,
       "max_width": null,
       "min_height": null,
       "min_width": null,
       "object_fit": null,
       "object_position": null,
       "order": null,
       "overflow": null,
       "overflow_x": null,
       "overflow_y": null,
       "padding": null,
       "right": null,
       "top": null,
       "visibility": null,
       "width": null
      }
     },
     "7b487aa4baa948a1937ed0c7c32cf263": {
      "model_module": "@jupyter-widgets/controls",
      "model_module_version": "1.5.0",
      "model_name": "HTMLModel",
      "state": {
       "_dom_classes": [],
       "_model_module": "@jupyter-widgets/controls",
       "_model_module_version": "1.5.0",
       "_model_name": "HTMLModel",
       "_view_count": null,
       "_view_module": "@jupyter-widgets/controls",
       "_view_module_version": "1.5.0",
       "_view_name": "HTMLView",
       "description": "",
       "description_tooltip": null,
       "layout": "IPY_MODEL_0e4859ed6d8f40909b623544ed392b24",
       "placeholder": "​",
       "style": "IPY_MODEL_cd23e94a39e8401eb438a8e68e299c1e",
       "value": "100%"
      }
     },
     "7d228f1678724fc7bbe7fe98c2716804": {
      "model_module": "@jupyter-widgets/controls",
      "model_module_version": "1.5.0",
      "model_name": "HTMLModel",
      "state": {
       "_dom_classes": [],
       "_model_module": "@jupyter-widgets/controls",
       "_model_module_version": "1.5.0",
       "_model_name": "HTMLModel",
       "_view_count": null,
       "_view_module": "@jupyter-widgets/controls",
       "_view_module_version": "1.5.0",
       "_view_name": "HTMLView",
       "description": "",
       "description_tooltip": null,
       "layout": "IPY_MODEL_606c7011a1f64eca8a6ffc4ebb0af9f4",
       "placeholder": "​",
       "style": "IPY_MODEL_45064c4762fb42d7b151b927dd39241a",
       "value": " 6391/6391 [05:42&lt;00:00, 18.59it/s]"
      }
     },
     "7f6fa9204dc34bb8a080431237ee195e": {
      "model_module": "@jupyter-widgets/controls",
      "model_module_version": "1.5.0",
      "model_name": "HBoxModel",
      "state": {
       "_dom_classes": [],
       "_model_module": "@jupyter-widgets/controls",
       "_model_module_version": "1.5.0",
       "_model_name": "HBoxModel",
       "_view_count": null,
       "_view_module": "@jupyter-widgets/controls",
       "_view_module_version": "1.5.0",
       "_view_name": "HBoxView",
       "box_style": "",
       "children": [
        "IPY_MODEL_7b487aa4baa948a1937ed0c7c32cf263",
        "IPY_MODEL_a27fe76f6d2e4bbe9bb3fd1afdc24998",
        "IPY_MODEL_7d228f1678724fc7bbe7fe98c2716804"
       ],
       "layout": "IPY_MODEL_467dbb8d1d024b57a9c179537e9d61a3"
      }
     },
     "a27fe76f6d2e4bbe9bb3fd1afdc24998": {
      "model_module": "@jupyter-widgets/controls",
      "model_module_version": "1.5.0",
      "model_name": "FloatProgressModel",
      "state": {
       "_dom_classes": [],
       "_model_module": "@jupyter-widgets/controls",
       "_model_module_version": "1.5.0",
       "_model_name": "FloatProgressModel",
       "_view_count": null,
       "_view_module": "@jupyter-widgets/controls",
       "_view_module_version": "1.5.0",
       "_view_name": "ProgressView",
       "bar_style": "success",
       "description": "",
       "description_tooltip": null,
       "layout": "IPY_MODEL_f20ba7af4b8743179ddbebd959cc76e1",
       "max": 6391,
       "min": 0,
       "orientation": "horizontal",
       "style": "IPY_MODEL_aa9ef3b00e1c4a6e910989e6484fb47b",
       "value": 6391
      }
     },
     "aa9ef3b00e1c4a6e910989e6484fb47b": {
      "model_module": "@jupyter-widgets/controls",
      "model_module_version": "1.5.0",
      "model_name": "ProgressStyleModel",
      "state": {
       "_model_module": "@jupyter-widgets/controls",
       "_model_module_version": "1.5.0",
       "_model_name": "ProgressStyleModel",
       "_view_count": null,
       "_view_module": "@jupyter-widgets/base",
       "_view_module_version": "1.2.0",
       "_view_name": "StyleView",
       "bar_color": null,
       "description_width": ""
      }
     },
     "cd23e94a39e8401eb438a8e68e299c1e": {
      "model_module": "@jupyter-widgets/controls",
      "model_module_version": "1.5.0",
      "model_name": "DescriptionStyleModel",
      "state": {
       "_model_module": "@jupyter-widgets/controls",
       "_model_module_version": "1.5.0",
       "_model_name": "DescriptionStyleModel",
       "_view_count": null,
       "_view_module": "@jupyter-widgets/base",
       "_view_module_version": "1.2.0",
       "_view_name": "StyleView",
       "description_width": ""
      }
     },
     "f20ba7af4b8743179ddbebd959cc76e1": {
      "model_module": "@jupyter-widgets/base",
      "model_module_version": "1.2.0",
      "model_name": "LayoutModel",
      "state": {
       "_model_module": "@jupyter-widgets/base",
       "_model_module_version": "1.2.0",
       "_model_name": "LayoutModel",
       "_view_count": null,
       "_view_module": "@jupyter-widgets/base",
       "_view_module_version": "1.2.0",
       "_view_name": "LayoutView",
       "align_content": null,
       "align_items": null,
       "align_self": null,
       "border": null,
       "bottom": null,
       "display": null,
       "flex": null,
       "flex_flow": null,
       "grid_area": null,
       "grid_auto_columns": null,
       "grid_auto_flow": null,
       "grid_auto_rows": null,
       "grid_column": null,
       "grid_gap": null,
       "grid_row": null,
       "grid_template_areas": null,
       "grid_template_columns": null,
       "grid_template_rows": null,
       "height": null,
       "justify_content": null,
       "justify_items": null,
       "left": null,
       "margin": null,
       "max_height": null,
       "max_width": null,
       "min_height": null,
       "min_width": null,
       "object_fit": null,
       "object_position": null,
       "order": null,
       "overflow": null,
       "overflow_x": null,
       "overflow_y": null,
       "padding": null,
       "right": null,
       "top": null,
       "visibility": null,
       "width": null
      }
     }
    },
    "version_major": 2,
    "version_minor": 0
   }
  }
 },
 "nbformat": 4,
 "nbformat_minor": 5
}
